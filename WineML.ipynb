{
 "cells": [
  {
   "cell_type": "code",
   "execution_count": 1,
   "metadata": {},
   "outputs": [],
   "source": [
    "import numpy as np\n",
    "import pandas as pd\n",
    "import matplotlib.pyplot as plt\n",
    "import seaborn as sns\n",
    "from sklearn.model_selection import train_test_split\n",
    "from sklearn.ensemble import RandomForestClassifier\n",
    "from sklearn import svm\n",
    "from sklearn import metrics"
   ]
  },
  {
   "cell_type": "code",
   "execution_count": 3,
   "metadata": {},
   "outputs": [
    {
     "name": "stdout",
     "output_type": "stream",
     "text": [
      "Random Forest CLassifier accuracy: 1019 / 1470\n"
     ]
    }
   ],
   "source": [
    "#Goal is to predict quality of wine from rest of data with a\n",
    "#Random Forest Classifier\n",
    "\n",
    "#read in data\n",
    "whiteData = pd.read_csv(\"winequality-white.csv\", sep=';')\n",
    "redData = pd.read_csv(\"winequality-red.csv\", sep=';')\n",
    "\n",
    "#seperate target from data\n",
    "Yw = whiteData['quality']\n",
    "Xw = whiteData.loc[:,'fixed acidity':'alcohol']\n",
    "#Bazinga \n",
    "Yr = redData['quality']\n",
    "Xr = redData.loc[:,'fixed acidity':'alcohol']\n",
    "\n",
    "#Set up train and test data\n",
    "Xw_train, Xw_test, Yw_train, Yw_test = train_test_split(Xw, Yw, test_size=0.3, random_state=42)\n",
    "Xr_train, Xr_test, Yr_train, Yr_test = train_test_split(Xr, Yr, test_size=0.3, random_state=42)\n",
    "\n",
    "attributes = whiteData.columns[:11]\n",
    "\n",
    "#Setting up classifier\n",
    "clfW = RandomForestClassifier(n_jobs=2, random_state=0)\n",
    "clfW.fit(Xw_train[attributes], Yw_train)\n",
    "Wpreds = clfW.predict(Xw_test[attributes])\n",
    "\n",
    "#Measuring accuracy\n",
    "counter = 0\n",
    "correct = 0\n",
    "j=0\n",
    "for pred in Wpreds:\n",
    "    if Wpreds[j] == Yw_test.values[j]:\n",
    "        correct += 1\n",
    "    j=j+1\n",
    "print('Random Forest CLassifier accuracy:', correct, '/', len(Yw_test.values))\n"
   ]
  },
  {
   "cell_type": "code",
   "execution_count": 5,
   "metadata": {},
   "outputs": [
    {
     "name": "stdout",
     "output_type": "stream",
     "text": [
      "Random Forest CLassifier accuracy: 316 / 480\n"
     ]
    }
   ],
   "source": [
    "\n",
    "attributes_red = redData.columns[:11]\n",
    "#Setting up classifier\n",
    "clfR = RandomForestClassifier(n_jobs=2, random_state=0)\n",
    "clfR.fit(Xr_train[attributes_red], Yr_train)\n",
    "Rpreds = clfR.predict(Xr_test[attributes_red])\n",
    "counter = 0\n",
    "correct = 0\n",
    "j=0\n",
    "\n",
    "for pred in Rpreds:\n",
    "    if Rpreds[j] == Yr_test.values[j]:\n",
    "        correct += 1\n",
    "    j=j+1\n",
    "print('Random Forest CLassifier accuracy:', correct, '/', len(Yr_test.values))"
   ]
  },
  {
   "cell_type": "code",
   "execution_count": 26,
   "metadata": {},
   "outputs": [
    {
     "name": "stdout",
     "output_type": "stream",
     "text": [
      "[6 6 6 ... 6 6 6]\n"
     ]
    }
   ],
   "source": [
    "#SVM TEST WHITE\n",
    "clfSVMw = svm.SVC(kernel = 'linear')\n",
    "clfSVMw.fit(Xw_train[attributes], Yw_train)\n",
    "SVMwPreds = clfSVMw.predict(Xw_test[attributes])"
   ]
  },
  {
   "cell_type": "code",
   "execution_count": 62,
   "metadata": {},
   "outputs": [
    {
     "name": "stdout",
     "output_type": "stream",
     "text": [
      "Accuracy: 0.5204081632653061\n",
      "SVM Accuracy: 765 / 1470\n",
      "[5 6]\n"
     ]
    }
   ],
   "source": [
    "print(\"Accuracy:\", metrics.accuracy_score(Yw_test.values, SVMwPreds))\n",
    "\n",
    "correct = 0\n",
    "j = 0\n",
    "for pred in SVMwPreds:\n",
    "    if SVMwPreds[j] == Yw_test.values[j]:\n",
    "        correct += 1\n",
    "    j=j+1\n",
    "print('SVM Accuracy:', correct, '/', len(Yw_test.values))\n",
    "print(np.unique(SVMwPreds))\n",
    "#SVM IS SHIT LAME AF"
   ]
  },
  {
   "cell_type": "code",
   "execution_count": 56,
   "metadata": {},
   "outputs": [],
   "source": [
    "#Red Wine Linear test\n",
    "clfSVMr = svm.SVC(kernel = 'linear')\n",
    "clfSVMr.fit(Xr_train[attributes], Yr_train)\n",
    "SVMrPreds = clfSVMr.predict(Xr_test[attributes])"
   ]
  },
  {
   "cell_type": "code",
   "execution_count": 69,
   "metadata": {},
   "outputs": [
    {
     "name": "stdout",
     "output_type": "stream",
     "text": [
      "Accuracy: 0.5041666666666667\n",
      "[5 6 7]\n",
      "[3 4 5 6 7 8]\n"
     ]
    }
   ],
   "source": [
    "print(\"Accuracy:\", metrics.accuracy_score(Yr_test.values, SVMrPreds))\n",
    "print(np.unique(SVMrPreds))\n",
    "print(np.unique(Yr_train.values))"
   ]
  },
  {
   "cell_type": "code",
   "execution_count": 58,
   "metadata": {},
   "outputs": [
    {
     "name": "stdout",
     "output_type": "stream",
     "text": [
      "Accuracy: 0.5041666666666667\n"
     ]
    }
   ],
   "source": [
    "#Red Wine non-Linear test still SVM\n",
    "clfSVMr = svm.SVC(kernel = 'rbf')\n",
    "clfSVMr.fit(Xr_train[attributes], Yr_train)\n",
    "SVMrPreds = clfSVMr.predict(Xr_test[attributes])\n",
    "print(\"Accuracy:\", metrics.accuracy_score(Yr_test.values, SVMrPreds))\n",
    "#WOW EVEN WORSE GREAT"
   ]
  },
  {
   "cell_type": "code",
   "execution_count": 116,
   "metadata": {},
   "outputs": [
    {
     "name": "stdout",
     "output_type": "stream",
     "text": [
      "[3 4 5 6 7 8]\n",
      "SVM Accuracy: 420 / 480\n",
      "[5 6 7]\n"
     ]
    }
   ],
   "source": [
    "#more svm testing\n",
    "#Basically gonna try and combine forest and svm\n",
    "#It didnt work any better than just forest\n",
    "print(np.unique(Yr_train))\n",
    "#Create model to determine quality either [3,4,5] or [6,7,8] \n",
    "#Create another model for each\n",
    "correct = 0\n",
    "j = 0\n",
    "for pred in SVMrPreds:\n",
    "    if SVMrPreds[j] <= 5 and SVMrPreds[j] <= Yr_test.values[j]:\n",
    "        correct += 1\n",
    "    elif SVMrPreds[j] >= Yr_test.values[j]:\n",
    "        correct += 1\n",
    "    j=j+1\n",
    "print('SVM Accuracy:', correct, '/', len(Yr_test.values))\n",
    "print(np.unique(SVMrPreds))\n",
    "SVMPreds = np.asarray([])\n",
    "counter = 0\n",
    "for pred in SVMrPreds:\n",
    "    if SVMrPreds[counter] > 5:\n",
    "        SVMPreds = np.insert(SVMPreds, len(SVMPreds), True, 0)\n",
    "    else:\n",
    "        SVMPreds = np.insert(SVMPreds, len(SVMPreds), False, 0)\n",
    "    counter += 1"
   ]
  },
  {
   "cell_type": "code",
   "execution_count": 95,
   "metadata": {},
   "outputs": [
    {
     "name": "stdout",
     "output_type": "stream",
     "text": [
      "SVM Accuracy: 988 / 1119\n",
      "[1. 1. 0. ... 0. 1. 1.]\n"
     ]
    }
   ],
   "source": [
    "#Add svm results back to data and run RFClf\n",
    "SVMtrainPreds = clfSVMr.predict(Xr_train[attributes])\n",
    "\n",
    "correct = 0\n",
    "j = 0\n",
    "for pred in SVMtrainPreds:\n",
    "    if SVMtrainPreds[j] <= 5 and SVMtrainPreds[j] <= Yr_train.values[j]:\n",
    "        correct += 1\n",
    "    elif SVMtrainPreds[j] >= Yr_train.values[j]:\n",
    "        correct += 1\n",
    "    j=j+1\n",
    "print('SVM Accuracy:', correct, '/', len(Yr_train.values))\n",
    "\n",
    "SVMtPreds = np.asarray([])\n",
    "counter = 0\n",
    "for pred in SVMtrainPreds:\n",
    "    if SVMtrainPreds[counter] > 5:\n",
    "        SVMtPreds = np.insert(SVMtPreds, len(SVMtPreds), True, 0)\n",
    "    else:\n",
    "        SVMtPreds = np.insert(SVMtPreds, len(SVMtPreds), False, 0)\n",
    "    counter += 1\n",
    "print(SVMtPreds)"
   ]
  },
  {
   "cell_type": "code",
   "execution_count": null,
   "metadata": {},
   "outputs": [],
   "source": [
    "#Get actual more than 5 vals inserted\n",
    "#U can maybe ignore this, uncomment some stuff below if shit doesnt work"
   ]
  },
  {
   "cell_type": "code",
   "execution_count": 112,
   "metadata": {},
   "outputs": [
    {
     "data": {
      "text/html": [
       "<div>\n",
       "<style scoped>\n",
       "    .dataframe tbody tr th:only-of-type {\n",
       "        vertical-align: middle;\n",
       "    }\n",
       "\n",
       "    .dataframe tbody tr th {\n",
       "        vertical-align: top;\n",
       "    }\n",
       "\n",
       "    .dataframe thead th {\n",
       "        text-align: right;\n",
       "    }\n",
       "</style>\n",
       "<table border=\"1\" class=\"dataframe\">\n",
       "  <thead>\n",
       "    <tr style=\"text-align: right;\">\n",
       "      <th></th>\n",
       "      <th>more_than</th>\n",
       "      <th>fixed acidity</th>\n",
       "      <th>volatile acidity</th>\n",
       "      <th>citric acid</th>\n",
       "      <th>residual sugar</th>\n",
       "      <th>chlorides</th>\n",
       "      <th>free sulfur dioxide</th>\n",
       "      <th>total sulfur dioxide</th>\n",
       "      <th>density</th>\n",
       "      <th>pH</th>\n",
       "      <th>sulphates</th>\n",
       "      <th>alcohol</th>\n",
       "    </tr>\n",
       "  </thead>\n",
       "  <tbody>\n",
       "    <tr>\n",
       "      <th>803</th>\n",
       "      <td>0.0</td>\n",
       "      <td>7.7</td>\n",
       "      <td>0.56</td>\n",
       "      <td>0.08</td>\n",
       "      <td>2.50</td>\n",
       "      <td>0.114</td>\n",
       "      <td>14.0</td>\n",
       "      <td>46.0</td>\n",
       "      <td>0.9971</td>\n",
       "      <td>3.24</td>\n",
       "      <td>0.66</td>\n",
       "      <td>9.6</td>\n",
       "    </tr>\n",
       "    <tr>\n",
       "      <th>124</th>\n",
       "      <td>0.0</td>\n",
       "      <td>7.8</td>\n",
       "      <td>0.50</td>\n",
       "      <td>0.17</td>\n",
       "      <td>1.60</td>\n",
       "      <td>0.082</td>\n",
       "      <td>21.0</td>\n",
       "      <td>102.0</td>\n",
       "      <td>0.9960</td>\n",
       "      <td>3.39</td>\n",
       "      <td>0.48</td>\n",
       "      <td>9.5</td>\n",
       "    </tr>\n",
       "    <tr>\n",
       "      <th>350</th>\n",
       "      <td>1.0</td>\n",
       "      <td>10.7</td>\n",
       "      <td>0.67</td>\n",
       "      <td>0.22</td>\n",
       "      <td>2.70</td>\n",
       "      <td>0.107</td>\n",
       "      <td>17.0</td>\n",
       "      <td>34.0</td>\n",
       "      <td>1.0004</td>\n",
       "      <td>3.28</td>\n",
       "      <td>0.98</td>\n",
       "      <td>9.9</td>\n",
       "    </tr>\n",
       "    <tr>\n",
       "      <th>682</th>\n",
       "      <td>1.0</td>\n",
       "      <td>8.5</td>\n",
       "      <td>0.46</td>\n",
       "      <td>0.31</td>\n",
       "      <td>2.25</td>\n",
       "      <td>0.078</td>\n",
       "      <td>32.0</td>\n",
       "      <td>58.0</td>\n",
       "      <td>0.9980</td>\n",
       "      <td>3.33</td>\n",
       "      <td>0.54</td>\n",
       "      <td>9.8</td>\n",
       "    </tr>\n",
       "    <tr>\n",
       "      <th>1326</th>\n",
       "      <td>1.0</td>\n",
       "      <td>6.7</td>\n",
       "      <td>0.46</td>\n",
       "      <td>0.24</td>\n",
       "      <td>1.70</td>\n",
       "      <td>0.077</td>\n",
       "      <td>18.0</td>\n",
       "      <td>34.0</td>\n",
       "      <td>0.9948</td>\n",
       "      <td>3.39</td>\n",
       "      <td>0.60</td>\n",
       "      <td>10.6</td>\n",
       "    </tr>\n",
       "  </tbody>\n",
       "</table>\n",
       "</div>"
      ],
      "text/plain": [
       "      more_than  fixed acidity  volatile acidity  citric acid  residual sugar  \\\n",
       "803         0.0            7.7              0.56         0.08            2.50   \n",
       "124         0.0            7.8              0.50         0.17            1.60   \n",
       "350         1.0           10.7              0.67         0.22            2.70   \n",
       "682         1.0            8.5              0.46         0.31            2.25   \n",
       "1326        1.0            6.7              0.46         0.24            1.70   \n",
       "\n",
       "      chlorides  free sulfur dioxide  total sulfur dioxide  density    pH  \\\n",
       "803       0.114                 14.0                  46.0   0.9971  3.24   \n",
       "124       0.082                 21.0                 102.0   0.9960  3.39   \n",
       "350       0.107                 17.0                  34.0   1.0004  3.28   \n",
       "682       0.078                 32.0                  58.0   0.9980  3.33   \n",
       "1326      0.077                 18.0                  34.0   0.9948  3.39   \n",
       "\n",
       "      sulphates  alcohol  \n",
       "803        0.66      9.6  \n",
       "124        0.48      9.5  \n",
       "350        0.98      9.9  \n",
       "682        0.54      9.8  \n",
       "1326       0.60     10.6  "
      ]
     },
     "execution_count": 112,
     "metadata": {},
     "output_type": "execute_result"
    }
   ],
   "source": [
    "#Xr_train.insert(0, \"more_than\", SVMtPreds)\n",
    "#Xr_test.insert(0, \"more_than\", SVMPreds)\n",
    "Xr_test.head()"
   ]
  },
  {
   "cell_type": "code",
   "execution_count": 118,
   "metadata": {},
   "outputs": [
    {
     "name": "stdout",
     "output_type": "stream",
     "text": [
      "Random Forest CLassifier accuracy: 316 / 480\n",
      "[5 6 7 8]\n"
     ]
    }
   ],
   "source": [
    "#Now with SVM data!!\n",
    "attributes_red = redData.columns[:11]\n",
    "#Setting up classifier\n",
    "clfR = RandomForestClassifier(n_jobs=2, random_state=0)\n",
    "clfR.fit(Xr_train, Yr_train)\n",
    "Rpreds = clfR.predict(Xr_test)\n",
    "counter = 0\n",
    "correct = 0\n",
    "j=0\n",
    "\n",
    "for pred in Rpreds:\n",
    "    if Rpreds[j] == Yr_test.values[j]:\n",
    "        correct += 1\n",
    "    j=j+1\n",
    "print('Random Forest CLassifier accuracy:', correct, '/', len(Yr_test.values))\n",
    "print(np.unique(Rpreds))"
   ]
  },
  {
   "cell_type": "code",
   "execution_count": 120,
   "metadata": {},
   "outputs": [
    {
     "name": "stdout",
     "output_type": "stream",
     "text": [
      "RFC Accuracy: 442 / 480\n"
     ]
    }
   ],
   "source": [
    "#Testing how good RFC is at determing if more than 5\n",
    "correct = 0\n",
    "j = 0\n",
    "for pred in Rpreds:\n",
    "    if Rpreds[j] <= 5 and Rpreds[j] <= Yr_test.values[j]:\n",
    "        correct += 1\n",
    "    elif Rpreds[j] >= Yr_test.values[j]:\n",
    "        correct += 1\n",
    "    j=j+1\n",
    "print('RFC Accuracy:', correct, '/', len(Yr_test.values))\n",
    "#more accurate than svm so whats the point"
   ]
  },
  {
   "cell_type": "code",
   "execution_count": 121,
   "metadata": {},
   "outputs": [],
   "source": [
    "SVMtrainPreds = clfR.predict(Xr_train)\n",
    "SVMPreds = np.asarray([])\n",
    "counter = 0\n",
    "for pred in Rpreds:\n",
    "    if Rpreds[counter] > 5:\n",
    "        SVMPreds = np.insert(SVMPreds, len(SVMPreds), True, 0)\n",
    "    else:\n",
    "        SVMPreds = np.insert(SVMPreds, len(SVMPreds), False, 0)\n",
    "    counter += 1\n",
    "    \n",
    "SVMtPreds = np.asarray([])\n",
    "counter = 0\n",
    "for pred in SVMtrainPreds:\n",
    "    if SVMtrainPreds[counter] > 5:\n",
    "        SVMtPreds = np.insert(SVMtPreds, len(SVMtPreds), True, 0)\n",
    "    else:\n",
    "        SVMtPreds = np.insert(SVMtPreds, len(SVMtPreds), False, 0)\n",
    "    counter += 1"
   ]
  },
  {
   "cell_type": "code",
   "execution_count": 122,
   "metadata": {},
   "outputs": [],
   "source": [
    "Xr_train.insert(0, \"more_than\", SVMtPreds)\n",
    "Xr_test.insert(0, \"more_than\", SVMPreds)"
   ]
  },
  {
   "cell_type": "code",
   "execution_count": 125,
   "metadata": {},
   "outputs": [
    {
     "name": "stdout",
     "output_type": "stream",
     "text": [
      "Random Forest CLassifier accuracy: 316 / 480\n"
     ]
    }
   ],
   "source": [
    "#Now with extra RFC data!!\n",
    "attributes_red = redData.columns[:11]\n",
    "#Setting up classifier\n",
    "clfR = RandomForestClassifier(n_jobs=2, random_state=0)\n",
    "clfR.fit(Xr_train, Yr_train)\n",
    "Rpreds = clfR.predict(Xr_test)\n",
    "counter = 0\n",
    "correct = 0\n",
    "j=0\n",
    "\n",
    "for pred in Rpreds:\n",
    "    if Rpreds[j] == Yr_test.values[j]:\n",
    "        correct += 1\n",
    "    j=j+1\n",
    "print('Random Forest CLassifier accuracy:', correct, '/', len(Yr_test.values))\n",
    "#Zero effect! Makes sense I guess what a waste of fucking time"
   ]
  },
  {
   "cell_type": "code",
   "execution_count": 4,
   "metadata": {},
   "outputs": [
    {
     "name": "stdout",
     "output_type": "stream",
     "text": [
      "K nearest neighbor CLassifier accuracy: 822 / 1470\n"
     ]
    }
   ],
   "source": [
    "#K nearest neighbor\n",
    "from sklearn.neighbors import KNeighborsClassifier\n",
    "neigh = KNeighborsClassifier(n_neighbors=1)\n",
    "k=neigh.fit(Xw_train, Yw_train)\n",
    "kpred=k.predict(Xw_test[attributes])\n",
    "counter = 0\n",
    "correct = 0\n",
    "j=0\n",
    "\n",
    "for pred in kpred:\n",
    "    if kpred[j] == Yw_test.values[j]:\n",
    "        correct += 1\n",
    "    j=j+1\n",
    "print('K nearest neighbor CLassifier accuracy:', correct, '/', len(Yw_test.values))\n"
   ]
  },
  {
   "cell_type": "code",
   "execution_count": 9,
   "metadata": {},
   "outputs": [
    {
     "name": "stdout",
     "output_type": "stream",
     "text": [
      "K nearest neighbor CLassifierr accuracy: 252 / 480\n"
     ]
    }
   ],
   "source": [
    "from sklearn.neighbors import KNeighborsClassifier\n",
    "neigh = KNeighborsClassifier(n_neighbors=1)\n",
    "k=neigh.fit(Xr_train, Yr_train)\n",
    "kpred=k.predict(Xr_test[attributes])\n",
    "counter = 0\n",
    "correct = 0\n",
    "j=0\n",
    "\n",
    "for pred in kpred:\n",
    "    if kpred[j] == Yr_test.values[j]:\n",
    "        correct += 1\n",
    "    j=j+1\n",
    "print('K nearest neighbor CLassifierr accuracy:', correct, '/', len(Yr_test.values))\n"
   ]
  },
  {
   "cell_type": "code",
   "execution_count": 6,
   "metadata": {},
   "outputs": [],
   "source": [
    "#K nearest neighbor is less accurate than random forest classifiers"
   ]
  },
  {
   "cell_type": "code",
   "execution_count": null,
   "metadata": {},
   "outputs": [],
   "source": []
  },
  {
   "cell_type": "code",
   "execution_count": 10,
   "metadata": {},
   "outputs": [
    {
     "name": "stdout",
     "output_type": "stream",
     "text": [
      "Random Forest CLassifier accuracy for fixed acidity in white wine: 676 / 1470\n",
      "Random Forest CLassifier accuracy for fixed acidity in red wine  : 209 / 480\n"
     ]
    }
   ],
   "source": [
    "#Setting up classifier\n",
    "clfW = RandomForestClassifier(n_jobs=2, random_state=0)\n",
    "clfW.fit(Xw_train['fixed acidity'].values.reshape(-1,1), Yw_train.values.ravel())\n",
    "Wpreds = clfW.predict(Xw_test['fixed acidity'].values.reshape(-1,1))\n",
    "\n",
    "#Measuring accuracy\n",
    "counter = 0\n",
    "correct = 0\n",
    "j=0\n",
    "for pred in Wpreds:\n",
    "    if Wpreds[j] == Yw_test.values[j]:\n",
    "        correct += 1\n",
    "    j=j+1\n",
    "predFAw=correct\n",
    "print('Random Forest CLassifier accuracy for fixed acidity in white wine:', correct, '/', len(Yw_test.values))\n",
    "\n",
    "#Setting up classifier\n",
    "clfR = RandomForestClassifier(n_jobs=2, random_state=0)\n",
    "clfR.fit(Xr_train['fixed acidity'].values.reshape(-1,1), Yr_train.values.ravel())\n",
    "Rpreds = clfR.predict(Xr_test['fixed acidity'].values.reshape(-1,1))\n",
    "\n",
    "#Measuring accuracy\n",
    "counter = 0\n",
    "correct = 0\n",
    "j=0\n",
    "for pred in Rpreds:\n",
    "    if Rpreds[j] == Yr_test.values[j]:\n",
    "        correct += 1\n",
    "    j=j+1\n",
    "print('Random Forest CLassifier accuracy for fixed acidity in red wine  :', correct, '/', len(Yr_test.values))\n",
    "predFAr=correct"
   ]
  },
  {
   "cell_type": "code",
   "execution_count": 11,
   "metadata": {},
   "outputs": [
    {
     "name": "stdout",
     "output_type": "stream",
     "text": [
      "Random Forest CLassifier accuracy for volatile acidity in white wine  : 669 / 1470\n",
      "Random Forest CLassifier accuracy for volatile acidity in red wine  : 226 / 480\n"
     ]
    }
   ],
   "source": [
    "#Setting up classifier\n",
    "clfW = RandomForestClassifier(n_jobs=2, random_state=0)\n",
    "clfW.fit(Xw_train['volatile acidity'].values.reshape(-1,1), Yw_train.values.ravel())\n",
    "Wpreds = clfW.predict(Xw_test['volatile acidity'].values.reshape(-1,1))\n",
    "\n",
    "#Measuring accuracy\n",
    "counter = 0\n",
    "correct = 0\n",
    "j=0\n",
    "for pred in Wpreds:\n",
    "    if Wpreds[j] == Yw_test.values[j]:\n",
    "        correct += 1\n",
    "    j=j+1\n",
    "print('Random Forest CLassifier accuracy for volatile acidity in white wine  :', correct, '/', len(Yw_test.values))\n",
    "predVAw=correct\n",
    "#Setting up classifier\n",
    "clfR = RandomForestClassifier(n_jobs=2, random_state=0)\n",
    "clfR.fit(Xr_train['volatile acidity'].values.reshape(-1,1), Yr_train.values.ravel())\n",
    "Rpreds = clfR.predict(Xr_test['volatile acidity'].values.reshape(-1,1))\n",
    "\n",
    "#Measuring accuracy\n",
    "counter = 0\n",
    "correct = 0\n",
    "j=0\n",
    "for pred in Rpreds:\n",
    "    if Rpreds[j] == Yr_test.values[j]:\n",
    "        correct += 1\n",
    "    j=j+1\n",
    "print('Random Forest CLassifier accuracy for volatile acidity in red wine  :', correct, '/', len(Yr_test.values))\n",
    "predVAr=correct"
   ]
  },
  {
   "cell_type": "code",
   "execution_count": 12,
   "metadata": {},
   "outputs": [
    {
     "name": "stdout",
     "output_type": "stream",
     "text": [
      "Random Forest CLassifier accuracy for citric acid  : 695 / 1470\n",
      "Random Forest CLassifier accuracy for citric acid in red wine  : 215 / 480\n"
     ]
    }
   ],
   "source": [
    "#Setting up classifier\n",
    "clfW = RandomForestClassifier(n_jobs=2, random_state=0)\n",
    "clfW.fit(Xw_train['citric acid'].values.reshape(-1,1), Yw_train.values.ravel())\n",
    "Wpreds = clfW.predict(Xw_test['citric acid'].values.reshape(-1,1))\n",
    "\n",
    "#Measuring accuracy\n",
    "counter = 0\n",
    "correct = 0\n",
    "j=0\n",
    "for pred in Wpreds:\n",
    "    if Wpreds[j] == Yw_test.values[j]:\n",
    "        correct += 1\n",
    "    j=j+1\n",
    "print('Random Forest CLassifier accuracy for citric acid  :', correct, '/', len(Yw_test.values))\n",
    "predCAw=correct\n",
    "#Setting up classifier\n",
    "clfR = RandomForestClassifier(n_jobs=2, random_state=0)\n",
    "clfR.fit(Xr_train['citric acid'].values.reshape(-1,1), Yr_train.values.ravel())\n",
    "Rpreds = clfR.predict(Xr_test['citric acid'].values.reshape(-1,1))\n",
    "\n",
    "#Measuring accuracy\n",
    "counter = 0\n",
    "correct = 0\n",
    "j=0\n",
    "for pred in Rpreds:\n",
    "    if Rpreds[j] == Yr_test.values[j]:\n",
    "        correct += 1\n",
    "    j=j+1\n",
    "print('Random Forest CLassifier accuracy for citric acid in red wine  :', correct, '/', len(Yr_test.values))\n",
    "predCAr=correct"
   ]
  },
  {
   "cell_type": "code",
   "execution_count": 13,
   "metadata": {},
   "outputs": [
    {
     "name": "stdout",
     "output_type": "stream",
     "text": [
      "Random Forest CLassifier accuracy for residual sugar in white wine  : 679 / 1470\n",
      "Random Forest CLassifier accuracy for residual sugar in red wine  : 218 / 480\n"
     ]
    }
   ],
   "source": [
    "#Setting up classifier\n",
    "clfW = RandomForestClassifier(n_jobs=2, random_state=0)\n",
    "clfW.fit(Xw_train['residual sugar'].values.reshape(-1,1), Yw_train.values.ravel())\n",
    "Wpreds = clfW.predict(Xw_test['residual sugar'].values.reshape(-1,1))\n",
    "\n",
    "#Measuring accuracy\n",
    "counter = 0\n",
    "correct = 0\n",
    "j=0\n",
    "for pred in Wpreds:\n",
    "    if Wpreds[j] == Yw_test.values[j]:\n",
    "        correct += 1\n",
    "    j=j+1\n",
    "print('Random Forest CLassifier accuracy for residual sugar in white wine  :', correct, '/', len(Yw_test.values))\n",
    "predRSw=correct\n",
    "#Setting up classifier\n",
    "clfR = RandomForestClassifier(n_jobs=2, random_state=0)\n",
    "clfR.fit(Xr_train['residual sugar'].values.reshape(-1,1), Yr_train.values.ravel())\n",
    "Rpreds = clfR.predict(Xr_test['residual sugar'].values.reshape(-1,1))\n",
    "\n",
    "#Measuring accuracy\n",
    "counter = 0\n",
    "correct = 0\n",
    "j=0\n",
    "for pred in Rpreds:\n",
    "    if Rpreds[j] == Yr_test.values[j]:\n",
    "        correct += 1\n",
    "    j=j+1\n",
    "print('Random Forest CLassifier accuracy for residual sugar in red wine  :', correct, '/', len(Yr_test.values))\n",
    "predRSr=correct"
   ]
  },
  {
   "cell_type": "code",
   "execution_count": 14,
   "metadata": {},
   "outputs": [
    {
     "name": "stdout",
     "output_type": "stream",
     "text": [
      "Random Forest CLassifier accuracy for chlorides in white wine : 669 / 1470\n",
      "Random Forest CLassifier accuracy for chlorides in red wine  : 199 / 480\n"
     ]
    }
   ],
   "source": [
    "#Setting up classifier\n",
    "clfW = RandomForestClassifier(n_jobs=2, random_state=0)\n",
    "clfW.fit(Xw_train['chlorides'].values.reshape(-1,1), Yw_train.values.ravel())\n",
    "Wpreds = clfW.predict(Xw_test['chlorides'].values.reshape(-1,1))\n",
    "\n",
    "#Measuring accuracy\n",
    "counter = 0\n",
    "correct = 0\n",
    "j=0\n",
    "for pred in Wpreds:\n",
    "    if Wpreds[j] == Yw_test.values[j]:\n",
    "        correct += 1\n",
    "    j=j+1\n",
    "print('Random Forest CLassifier accuracy for chlorides in white wine :', correct, '/', len(Yw_test.values))\n",
    "predCLw=correct\n",
    "#Setting up classifier\n",
    "clfR = RandomForestClassifier(n_jobs=2, random_state=0)\n",
    "clfR.fit(Xr_train['chlorides'].values.reshape(-1,1), Yr_train.values.ravel())\n",
    "Rpreds = clfR.predict(Xr_test['chlorides'].values.reshape(-1,1))\n",
    "\n",
    "#Measuring accuracy\n",
    "counter = 0\n",
    "correct = 0\n",
    "j=0\n",
    "for pred in Rpreds:\n",
    "    if Rpreds[j] == Yr_test.values[j]:\n",
    "        correct += 1\n",
    "    j=j+1\n",
    "print('Random Forest CLassifier accuracy for chlorides in red wine  :', correct, '/', len(Yr_test.values))\n",
    "predCLr=correct"
   ]
  },
  {
   "cell_type": "code",
   "execution_count": 15,
   "metadata": {},
   "outputs": [
    {
     "name": "stdout",
     "output_type": "stream",
     "text": [
      "Random Forest CLassifier accuracy for free sulfur dioxide  : 680 / 1470\n",
      "Random Forest CLassifier accuracy for free sulfur dioxide in red wine  : 222 / 480\n"
     ]
    }
   ],
   "source": [
    "#Setting up classifier\n",
    "clfW = RandomForestClassifier(n_jobs=2, random_state=0)\n",
    "clfW.fit(Xw_train['free sulfur dioxide'].values.reshape(-1,1), Yw_train.values.ravel())\n",
    "Wpreds = clfW.predict(Xw_test['free sulfur dioxide'].values.reshape(-1,1))\n",
    "\n",
    "#Measuring accuracy\n",
    "counter = 0\n",
    "correct = 0\n",
    "j=0\n",
    "for pred in Wpreds:\n",
    "    if Wpreds[j] == Yw_test.values[j]:\n",
    "        correct += 1\n",
    "    j=j+1\n",
    "print('Random Forest CLassifier accuracy for free sulfur dioxide  :', correct, '/', len(Yw_test.values))\n",
    "predFSDw=correct\n",
    "#Setting up classifier\n",
    "clfR = RandomForestClassifier(n_jobs=2, random_state=0)\n",
    "clfR.fit(Xr_train['free sulfur dioxide'].values.reshape(-1,1), Yr_train.values.ravel())\n",
    "Rpreds = clfR.predict(Xr_test['free sulfur dioxide'].values.reshape(-1,1))\n",
    "\n",
    "#Measuring accuracy\n",
    "counter = 0\n",
    "correct = 0\n",
    "j=0\n",
    "for pred in Rpreds:\n",
    "    if Rpreds[j] == Yr_test.values[j]:\n",
    "        correct += 1\n",
    "    j=j+1\n",
    "print('Random Forest CLassifier accuracy for free sulfur dioxide in red wine  :', correct, '/', len(Yr_test.values))\n",
    "predFSDr=correct"
   ]
  },
  {
   "cell_type": "code",
   "execution_count": 16,
   "metadata": {},
   "outputs": [
    {
     "name": "stdout",
     "output_type": "stream",
     "text": [
      "Random Forest CLassifier accuracy for total sulfur dioxide in white wine  : 662 / 1470\n",
      "Random Forest CLassifier accuracy for total sulfur dioxide in red wine  : 219 / 480\n"
     ]
    }
   ],
   "source": [
    "#Setting up classifier\n",
    "clfW = RandomForestClassifier(n_jobs=2, random_state=0)\n",
    "clfW.fit(Xw_train['total sulfur dioxide'].values.reshape(-1,1), Yw_train.values.ravel())\n",
    "Wpreds = clfW.predict(Xw_test['total sulfur dioxide'].values.reshape(-1,1))\n",
    "\n",
    "#Measuring accuracy\n",
    "counter = 0\n",
    "correct = 0\n",
    "j=0\n",
    "for pred in Wpreds:\n",
    "    if Wpreds[j] == Yw_test.values[j]:\n",
    "        correct += 1\n",
    "    j=j+1\n",
    "print('Random Forest CLassifier accuracy for total sulfur dioxide in white wine  :', correct, '/', len(Yw_test.values))\n",
    "predTSDw=correct\n",
    "#Setting up classifier\n",
    "clfR = RandomForestClassifier(n_jobs=2, random_state=0)\n",
    "clfR.fit(Xr_train['total sulfur dioxide'].values.reshape(-1,1), Yr_train.values.ravel())\n",
    "Rpreds = clfR.predict(Xr_test['total sulfur dioxide'].values.reshape(-1,1))\n",
    "pred\n",
    "#Measuring accuracy\n",
    "counter = 0\n",
    "correct = 0\n",
    "j=0\n",
    "for pred in Rpreds:\n",
    "    if Rpreds[j] == Yr_test.values[j]:\n",
    "        correct += 1\n",
    "    j=j+1\n",
    "print('Random Forest CLassifier accuracy for total sulfur dioxide in red wine  :', correct, '/', len(Yr_test.values))\n",
    "predTSDr=correct"
   ]
  },
  {
   "cell_type": "code",
   "execution_count": 17,
   "metadata": {},
   "outputs": [
    {
     "name": "stdout",
     "output_type": "stream",
     "text": [
      "Random Forest CLassifier accuracy for density  : 685 / 1470\n",
      "Random Forest CLassifier accuracy for density in red wine  : 226 / 480\n"
     ]
    }
   ],
   "source": [
    "#Setting up classifier\n",
    "clfW = RandomForestClassifier(n_jobs=2, random_state=0)\n",
    "clfW.fit(Xw_train['density'].values.reshape(-1,1), Yw_train.values.ravel())\n",
    "Wpreds = clfW.predict(Xw_test['density'].values.reshape(-1,1))\n",
    "\n",
    "#Measuring accuracy\n",
    "counter = 0\n",
    "correct = 0\n",
    "j=0\n",
    "for pred in Wpreds:\n",
    "    if Wpreds[j] == Yw_test.values[j]:\n",
    "        correct += 1\n",
    "    j=j+1\n",
    "print('Random Forest CLassifier accuracy for density  :', correct, '/', len(Yw_test.values))\n",
    "predDw=correct\n",
    "#Setting up classifier\n",
    "clfR = RandomForestClassifier(n_jobs=2, random_state=0)\n",
    "clfR.fit(Xr_train['density'].values.reshape(-1,1), Yr_train.values.ravel())\n",
    "Rpreds = clfR.predict(Xr_test['density'].values.reshape(-1,1))\n",
    "\n",
    "#Measuring accuracy\n",
    "counter = 0\n",
    "correct = 0\n",
    "j=0\n",
    "for pred in Rpreds:\n",
    "    if Rpreds[j] == Yr_test.values[j]:\n",
    "        correct += 1\n",
    "    j=j+1\n",
    "print('Random Forest CLassifier accuracy for density in red wine  :', correct, '/', len(Yr_test.values))\n",
    "predDr=correct"
   ]
  },
  {
   "cell_type": "code",
   "execution_count": 18,
   "metadata": {},
   "outputs": [
    {
     "name": "stdout",
     "output_type": "stream",
     "text": [
      "Random Forest CLassifier accuracy for pH  : 630 / 1470\n",
      "Random Forest CLassifier accuracy for pH in red wine  : 216 / 480\n"
     ]
    }
   ],
   "source": [
    "#Setting up classifier\n",
    "clfW = RandomForestClassifier(n_jobs=2, random_state=0)\n",
    "clfW.fit(Xw_train['pH'].values.reshape(-1,1), Yw_train.values.ravel())\n",
    "Wpreds = clfW.predict(Xw_test['pH'].values.reshape(-1,1))\n",
    "\n",
    "#Measuring accuracy\n",
    "counter = 0\n",
    "correct = 0\n",
    "j=0\n",
    "for pred in Wpreds:\n",
    "    if Wpreds[j] == Yw_test.values[j]:\n",
    "        correct += 1\n",
    "    j=j+1\n",
    "print('Random Forest CLassifier accuracy for pH  :', correct, '/', len(Yw_test.values))\n",
    "predPHw=correct\n",
    "#Setting up classifier\n",
    "clfR = RandomForestClassifier(n_jobs=2, random_state=0)\n",
    "clfR.fit(Xr_train['pH'].values.reshape(-1,1), Yr_train.values.ravel())\n",
    "Rpreds = clfR.predict(Xr_test['pH'].values.reshape(-1,1))\n",
    "\n",
    "#Measuring accuracy\n",
    "counter = 0\n",
    "correct = 0\n",
    "j=0\n",
    "for pred in Rpreds:\n",
    "    if Rpreds[j] == Yr_test.values[j]:\n",
    "        correct += 1\n",
    "    j=j+1\n",
    "print('Random Forest CLassifier accuracy for pH in red wine  :', correct, '/', len(Yr_test.values))\n",
    "predPHr=correct"
   ]
  },
  {
   "cell_type": "code",
   "execution_count": 19,
   "metadata": {},
   "outputs": [
    {
     "name": "stdout",
     "output_type": "stream",
     "text": [
      "Random Forest CLassifier accuracy for sulphates  : 635 / 1470\n",
      "Random Forest CLassifier accuracy for sulphates in red wine  : 229 / 480\n"
     ]
    }
   ],
   "source": [
    "#Setting up classifier\n",
    "clfW = RandomForestClassifier(n_jobs=2, random_state=0)\n",
    "clfW.fit(Xw_train['sulphates'].values.reshape(-1,1), Yw_train.values.ravel())\n",
    "Wpreds = clfW.predict(Xw_test['sulphates'].values.reshape(-1,1))\n",
    "\n",
    "#Measuring accuracy\n",
    "counter = 0\n",
    "correct = 0\n",
    "j=0\n",
    "for pred in Wpreds:\n",
    "    if Wpreds[j] == Yw_test.values[j]:\n",
    "        correct += 1\n",
    "    j=j+1\n",
    "print('Random Forest CLassifier accuracy for sulphates  :', correct, '/', len(Yw_test.values))\n",
    "predSUw=correct\n",
    "#Setting up classifier\n",
    "clfR = RandomForestClassifier(n_jobs=2, random_state=0)\n",
    "clfR.fit(Xr_train['sulphates'].values.reshape(-1,1), Yr_train.values.ravel())\n",
    "Rpreds = clfR.predict(Xr_test['sulphates'].values.reshape(-1,1))\n",
    "\n",
    "#Measuring accuracy\n",
    "counter = 0\n",
    "correct = 0\n",
    "j=0\n",
    "for pred in Rpreds:\n",
    "    if Rpreds[j] == Yr_test.values[j]:\n",
    "        correct += 1\n",
    "    j=j+1\n",
    "print('Random Forest CLassifier accuracy for sulphates in red wine  :', correct, '/', len(Yr_test.values))\n",
    "predSUr=correct"
   ]
  },
  {
   "cell_type": "code",
   "execution_count": 20,
   "metadata": {},
   "outputs": [
    {
     "name": "stdout",
     "output_type": "stream",
     "text": [
      "Random Forest CLassifier accuracy for alcohol  : 734 / 1470\n",
      "Random Forest CLassifier accuracy for alcohol in red wine  : 246 / 480\n"
     ]
    }
   ],
   "source": [
    "#Setting up classifier\n",
    "clfW = RandomForestClassifier(n_jobs=2, random_state=0)\n",
    "clfW.fit(Xw_train['alcohol'].values.reshape(-1,1), Yw_train.values.ravel())\n",
    "Wpreds = clfW.predict(Xw_test['alcohol'].values.reshape(-1,1))\n",
    "\n",
    "#Measuring accuracy\n",
    "counter = 0\n",
    "correct = 0\n",
    "j=0\n",
    "for pred in Wpreds:\n",
    "    if Wpreds[j] == Yw_test.values[j]:\n",
    "        correct += 1\n",
    "    j=j+1\n",
    "print('Random Forest CLassifier accuracy for alcohol  :', correct, '/', len(Yw_test.values))\n",
    "predALCw=correct\n",
    "#Setting up classifier\n",
    "clfR = RandomForestClassifier(n_jobs=2, random_state=0)\n",
    "clfR.fit(Xr_train['alcohol'].values.reshape(-1,1), Yr_train.values.ravel())\n",
    "Rpreds = clfR.predict(Xr_test['alcohol'].values.reshape(-1,1))\n",
    "\n",
    "#Measuring accuracy\n",
    "counter = 0\n",
    "correct = 0\n",
    "j=0\n",
    "for pred in Rpreds:\n",
    "    if Rpreds[j] == Yr_test.values[j]:\n",
    "        correct += 1\n",
    "    j=j+1\n",
    "print('Random Forest CLassifier accuracy for alcohol in red wine  :', correct, '/', len(Yr_test.values))\n",
    "predALCr=correct"
   ]
  },
  {
   "cell_type": "code",
   "execution_count": 31,
   "metadata": {},
   "outputs": [
    {
     "data": {
      "image/png": "[encoded data removed]",
      "text/plain": [
       "<Figure size 1224x1080 with 1 Axes>"
      ]
     },
     "metadata": {
      "needs_background": "light"
     },
     "output_type": "display_data"
    }
   ],
   "source": [
    "fig=plt.figure(figsize=(17,15))\n",
    "\n",
    "ax=fig.add_axes([0,0,1,1])\n",
    "att=['fixed acidity','volatile acidity','citric acid','residual sugar','chlorides','free sulfur dioxide','total sulfur dioxide','density','sulphates','pH','alcohol']\n",
    "predicts=[predFAw,predVAw,predCAw,predRSw,predCLw,predFSDw,predTSDw,predDw,predPHw,predSUw,predALCw]\n",
    "ax.bar(att,predicts)\n",
    "plt.show()"
   ]
  },
  {
   "cell_type": "code",
   "execution_count": 34,
   "metadata": {},
   "outputs": [
    {
     "data": {
      "image/png": "[encoded data removed]",
      "text/plain": [
       "<Figure size 1224x1080 with 1 Axes>"
      ]
     },
     "metadata": {
      "needs_background": "light"
     },
     "output_type": "display_data"
    }
   ],
   "source": [
    "fig=plt.figure(figsize=(17,15))\n",
    "\n",
    "ax=fig.add_axes([0,0,1,1])\n",
    "att=['fixed acidity','volatile acidity','citric acid','residual sugar','chlorides','free sulfur dioxide','total sulfur dioxide','density','sulphates','pH','alcohol']\n",
    "predicts=[predFAr,predVAr,predCAr,predRSr,predCLr,predFSDr,predTSDr,predDr,predPHr,predSUr,predALCr]\n",
    "ax.bar(att,predicts,color='orange')\n",
    "plt.show()"
   ]
  },
  {
   "cell_type": "code",
   "execution_count": null,
   "metadata": {},
   "outputs": [],
   "source": []
  }
 ],
 "metadata": {
  "kernelspec": {
   "display_name": "Python 3",
   "language": "python",
   "name": "python3"
  },
  "language_info": {
   "codemirror_mode": {
    "name": "ipython",
    "version": 3
   },
   "file_extension": ".py",
   "mimetype": "text/x-python",
   "name": "python",
   "nbconvert_exporter": "python",
   "pygments_lexer": "ipython3",
   "version": "3.6.6+"
  }
 },
 "nbformat": 4,
 "nbformat_minor": 2
}
